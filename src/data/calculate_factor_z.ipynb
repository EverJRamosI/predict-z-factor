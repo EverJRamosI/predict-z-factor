{
 "cells": [
  {
   "cell_type": "code",
   "execution_count": null,
   "id": "8639fbdc",
   "metadata": {
    "vscode": {
     "languageId": "plaintext"
    }
   },
   "outputs": [],
   "source": [
    "import pandas as pd\n",
    "import petpropy as pt"
   ]
  },
  {
   "cell_type": "code",
   "execution_count": null,
   "id": "87e7de55",
   "metadata": {
    "vscode": {
     "languageId": "plaintext"
    }
   },
   "outputs": [],
   "source": [
    "pressures = list(range(1, 8001, 99))\n",
    "temperatures = (90, 180, 270, 360, 450, 540)\n",
    "sg_gas = (0.55, 0.6, 0.65, 0.7, 0.75, 0.8, 0.85, 0.9)"
   ]
  },
  {
   "cell_type": "code",
   "execution_count": null,
   "id": "dccd9942",
   "metadata": {
    "vscode": {
     "languageId": "plaintext"
    }
   },
   "outputs": [],
   "source": [
    "ppc_values = [pt.pc_g.brown_katz_grv(sg) for sg in sg_gas]"
   ]
  },
  {
   "cell_type": "code",
   "execution_count": null,
   "id": "44a5e045",
   "metadata": {
    "vscode": {
     "languageId": "plaintext"
    }
   },
   "outputs": [],
   "source": [
    "df_list = []\n",
    "\n",
    "for i, sg in zip(range(len(ppc_values)), sg_gas):\n",
    "    ppc = ppc_values[i]\n",
    "    \n",
    "    df_temp = {}\n",
    "    \n",
    "    for t in temperatures:\n",
    "        z = pt.z_g.dranchuk_purvis_robinson(pressures, t, ppc[0], ppc[1])\n",
    "        df_temp[f'Tat{t}_SGat{sg}'] = z\n",
    "        df = pd.DataFrame(df_temp, index=pressures)\n",
    "    \n",
    "    df_list.append(df)"
   ]
  },
  {
   "cell_type": "code",
   "execution_count": null,
   "id": "7d5149d6",
   "metadata": {
    "vscode": {
     "languageId": "plaintext"
    }
   },
   "outputs": [],
   "source": [
    "df_all = pd.concat(df_list, axis=1)"
   ]
  },
  {
   "cell_type": "code",
   "execution_count": null,
   "id": "bc148cb1",
   "metadata": {
    "vscode": {
     "languageId": "plaintext"
    }
   },
   "outputs": [],
   "source": [
    "df_all.to_csv('Factor_Z.csv')"
   ]
  }
 ],
 "metadata": {
  "language_info": {
   "name": "python"
  }
 },
 "nbformat": 4,
 "nbformat_minor": 5
}
